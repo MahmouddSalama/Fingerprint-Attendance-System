{
 "cells": [
  {
   "cell_type": "code",
   "execution_count": 1,
   "metadata": {},
   "outputs": [],
   "source": [
    "import cv2\n",
    "import numpy as np\n",
    "import pandas as pd\n",
    "from tensorflow.keras.applications import ResNet50\n",
    "from tensorflow.keras.applications.resnet50 import preprocess_input\n",
    "from sklearn.metrics.pairwise import cosine_similarity"
   ]
  },
  {
   "cell_type": "code",
   "execution_count": 2,
   "metadata": {},
   "outputs": [],
   "source": [
    "model = ResNet50(weights='imagenet', include_top=False, pooling='avg')\n",
    "\n",
    "def preprocess_image(image_path):\n",
    "    image = cv2.imread(image_path)\n",
    "    image = cv2.resize(image, (224, 224)) \n",
    "    image = preprocess_input(image)  \n",
    "    return image"
   ]
  },
  {
   "cell_type": "code",
   "execution_count": 3,
   "metadata": {},
   "outputs": [],
   "source": [
    "def extract_features(image):\n",
    "    features = model.predict(np.expand_dims(image, axis=0))\n",
    "    return features.flatten()  "
   ]
  },
  {
   "cell_type": "code",
   "execution_count": null,
   "metadata": {},
   "outputs": [
    {
     "name": "stdout",
     "output_type": "stream",
     "text": [
      "1/1 [==============================] - 0s 121ms/step\n",
      "Added A_f0027_08 to feature_data.csv\n"
     ]
    }
   ],
   "source": [
    "import pandas as pd\n",
    "import numpy as np\n",
    "import os\n",
    "\n",
    "def add_image_feature(image_path):\n",
    "    image_name = image_path.split(\"\\\\\")[-1].split('.')[0]  \n",
    "    image = preprocess_image(image_path)\n",
    "    features = extract_features(image)\n",
    "    feature_str = \",\".join(map(str, features))\n",
    "    file_exists = os.path.isfile('feature_data.csv')\n",
    "    new_data = pd.DataFrame([[image_name, feature_str]], columns=[\"filename\", \"features\"])\n",
    "    new_data.to_csv('feature_data.csv', mode='a', index=False, header=not file_exists)\n",
    "\n",
    "    print(f\"Added {image_name} to {'feature_data.csv'}\")\n",
    "\n",
    "add_image_feature('data\\A_f0027_08.png')\n"
   ]
  },
  {
   "cell_type": "code",
   "execution_count": 7,
   "metadata": {},
   "outputs": [],
   "source": [
    "def compute_similarity(features1, features2):\n",
    "    return cosine_similarity([features1], [features2])[0][0]"
   ]
  },
  {
   "cell_type": "code",
   "execution_count": 33,
   "metadata": {},
   "outputs": [
    {
     "name": "stdout",
     "output_type": "stream",
     "text": [
      "1/1 [==============================] - 0s 117ms/step\n",
      "Match found: A_f0027_08 (Similarity: 0.9999999999999993)\n"
     ]
    },
    {
     "data": {
      "text/plain": [
       "'A_f0027_08'"
      ]
     },
     "execution_count": 33,
     "metadata": {},
     "output_type": "execute_result"
    }
   ],
   "source": [
    "import ast\n",
    "def match_fingerprint(new_fingerprint_path, threshold=0.9):\n",
    "\n",
    "    new_features = extract_features(preprocess_image(new_fingerprint_path))\n",
    "    \n",
    "    best_match = None\n",
    "    highest_similarity = -1  \n",
    "    dataf=pd.read_csv(\"feature_data.csv\")\n",
    "    \n",
    "    for index, row in dataf.iterrows():\n",
    "        similarity = compute_similarity(new_features, ast.literal_eval(row['extract_features']))\n",
    "        if similarity > highest_similarity:\n",
    "            highest_similarity = similarity\n",
    "            best_match = row['image_name']\n",
    "    \n",
    "    if highest_similarity >= threshold:\n",
    "        print(f\"Match found: {best_match} (Similarity: {highest_similarity})\")\n",
    "        return best_match\n",
    "    else:\n",
    "        print(\"No match found. Fingerprint not in the dataset.\")\n",
    "        return None\n",
    "match_fingerprint(\"data\\A_f0027_08.png\")"
   ]
  }
 ],
 "metadata": {
  "kernelspec": {
   "display_name": "workDeep",
   "language": "python",
   "name": "python3"
  },
  "language_info": {
   "codemirror_mode": {
    "name": "ipython",
    "version": 3
   },
   "file_extension": ".py",
   "mimetype": "text/x-python",
   "name": "python",
   "nbconvert_exporter": "python",
   "pygments_lexer": "ipython3",
   "version": "3.9.17"
  }
 },
 "nbformat": 4,
 "nbformat_minor": 2
}
