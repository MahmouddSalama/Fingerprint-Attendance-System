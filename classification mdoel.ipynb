{
 "cells": [
  {
   "cell_type": "code",
   "execution_count": null,
   "id": "36542559",
   "metadata": {},
   "outputs": [],
   "source": [
    "import os\n",
    "import numpy as np\n",
    "from tensorflow.keras.preprocessing.image import load_img, img_to_array\n",
    "from sklearn.model_selection import train_test_split\n",
    "from sklearn.svm import SVC\n",
    "from sklearn.linear_model import LogisticRegression\n",
    "from sklearn.ensemble import RandomForestClassifier\n",
    "from sklearn.metrics import classification_report, accuracy_score\n",
    "from skimage.feature import hog\n",
    "from sklearn.decomposition import PCA"
   ]
  },
  {
   "cell_type": "code",
   "execution_count": null,
   "id": "2907a418",
   "metadata": {},
   "outputs": [],
   "source": [
    "image_size = (64, 64)\n",
    "\n",
    "dataset_dir = \"/kaggle/input/finger-print-dataset/Dataset\""
   ]
  },
  {
   "cell_type": "code",
   "execution_count": null,
   "id": "c2e90443",
   "metadata": {},
   "outputs": [],
   "source": [
    "\n",
    "def load_images_from_directory(directory):\n",
    "    \n",
    "    data = []\n",
    "    labels = []\n",
    "    for label, person in enumerate(os.listdir(directory)):\n",
    "        person_path = os.path.join(directory, person)\n",
    "        if os.path.isdir(person_path):\n",
    "            for img_name in os.listdir(person_path):\n",
    "                img_path = os.path.join(person_path, img_name)\n",
    "                img = load_img(img_path, target_size=image_size)\n",
    "                img_array = img_to_array(img) / 255.0  \n",
    "                data.append(img_array)\n",
    "                labels.append(label)\n",
    "    return np.array(data), np.array(labels)"
   ]
  },
  {
   "cell_type": "code",
   "execution_count": null,
   "id": "4d870f86",
   "metadata": {},
   "outputs": [],
   "source": [
    "X, y = load_images_from_directory(dataset_dir)"
   ]
  },
  {
   "cell_type": "code",
   "execution_count": null,
   "id": "72d91172",
   "metadata": {},
   "outputs": [],
   "source": [
    "X_train, X_temp, y_train, y_temp = train_test_split(X, y, test_size=0.3, random_state=42, stratify=y)\n",
    "X_val, X_test, y_val, y_test = train_test_split(X_temp, y_temp, test_size=0.5, random_state=42, stratify=y_temp)"
   ]
  },
  {
   "cell_type": "code",
   "execution_count": null,
   "id": "704454bb",
   "metadata": {},
   "outputs": [
    {
     "name": "stdout",
     "output_type": "stream",
     "text": [
      "\n",
      "Train  : 5247\n",
      "Validation  : 1124\n",
      "Test  : 1125 \n",
      "      \n"
     ]
    }
   ],
   "source": [
    "print(f\"Train : {X_train.shape[0]}\")\n",
    "print(f\"Validation : {X_val.shape[0]}\")\n",
    "print(f\"Test : {X_test.shape[0]}\")\n"
   ]
  },
  {
   "cell_type": "code",
   "execution_count": null,
   "id": "8c147dee",
   "metadata": {
    "execution": {
     "iopub.execute_input": "2025-01-09T12:29:41.475981Z",
     "iopub.status.busy": "2025-01-09T12:29:41.475561Z",
     "iopub.status.idle": "2025-01-09T12:41:09.376619Z",
     "shell.execute_reply": "2025-01-09T12:41:09.375020Z"
    },
    "papermill": {
     "duration": 687.907597,
     "end_time": "2025-01-09T12:41:09.379043",
     "exception": false,
     "start_time": "2025-01-09T12:29:41.471446",
     "status": "completed"
    },
    "tags": []
   },
   "outputs": [
    {
     "name": "stdout",
     "output_type": "stream",
     "text": [
      "\n",
      "Random Forest Classification Report:\n",
      "               precision    recall  f1-score   support\n",
      "\n",
      "           0       1.00      1.00      1.00       525\n",
      "           1       0.00      0.00      0.00        75\n",
      "           2       0.87      1.00      0.93       525\n",
      "\n",
      "    accuracy                           0.93      1125\n",
      "   macro avg       0.62      0.67      0.64      1125\n",
      "weighted avg       0.87      0.93      0.90      1125    \n",
      "      \n"
     ]
    }
   ],
   "source": [
    "\n",
    "rf_model = RandomForestClassifier(n_estimators=100, random_state=42, n_jobs=-1)\n",
    "rf_model.fit(X_train.reshape(X_train.shape[0], -1), y_train)\n",
    "y_pred_rf = rf_model.predict(X_test.reshape(X_test.shape[0], -1))\n",
    "rf_report = classification_report(y_test, y_pred_rf, output_dict=True)\n",
    "print( classification_report(y_test, y_pred_rf))\n"
   ]
  },
  {
   "cell_type": "code",
   "execution_count": null,
   "id": "bbb69264",
   "metadata": {},
   "outputs": [
    {
     "name": "stdout",
     "output_type": "stream",
     "text": [
      "the Accuracy of Random Forest Classifier is: 93.365\n"
     ]
    }
   ],
   "source": [
    "acc=rf_model.score(y_test,y_pred_rf)\n",
    "print('the Accuracy of Random Forest Classifier is:',acc)\n"
   ]
  }
 ],
 "metadata": {
  "kaggle": {
   "accelerator": "none",
   "dataSources": [
    {
     "datasetId": 4350541,
     "sourceId": 7472837,
     "sourceType": "datasetVersion"
    },
    {
     "datasetId": 2421941,
     "sourceId": 8500944,
     "sourceType": "datasetVersion"
    },
    {
     "datasetId": 6452403,
     "sourceId": 10411598,
     "sourceType": "datasetVersion"
    },
    {
     "datasetId": 4904155,
     "sourceId": 8262306,
     "sourceType": "datasetVersion"
    }
   ],
   "dockerImageVersionId": 30822,
   "isGpuEnabled": false,
   "isInternetEnabled": false,
   "language": "python",
   "sourceType": "notebook"
  },
  "kernelspec": {
   "display_name": "workDeep",
   "language": "python",
   "name": "python3"
  },
  "language_info": {
   "codemirror_mode": {
    "name": "ipython",
    "version": 3
   },
   "file_extension": ".py",
   "mimetype": "text/x-python",
   "name": "python",
   "nbconvert_exporter": "python",
   "pygments_lexer": "ipython3",
   "version": "3.9.17"
  },
  "papermill": {
   "default_parameters": {},
   "duration": 1427.000874,
   "end_time": "2025-01-09T12:53:25.483744",
   "environment_variables": {},
   "exception": null,
   "input_path": "__notebook__.ipynb",
   "output_path": "__notebook__.ipynb",
   "parameters": {},
   "start_time": "2025-01-09T12:29:38.482870",
   "version": "2.6.0"
  }
 },
 "nbformat": 4,
 "nbformat_minor": 5
}
